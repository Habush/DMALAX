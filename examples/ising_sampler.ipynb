{
 "nbformat": 4,
 "nbformat_minor": 0,
 "metadata": {
  "colab": {
   "name": "dmala_test_v2.ipynb",
   "provenance": [],
   "collapsed_sections": []
  },
  "kernelspec": {
   "name": "python3",
   "display_name": "Python 3"
  },
  "language_info": {
   "name": "python"
  },
  "accelerator": "GPU",
  "gpuClass": "standard"
 },
 "cells": [
  {
   "cell_type": "markdown",
   "source": [
    "# Sampling from an Ising Model using DMALAX"
   ],
   "metadata": {
    "id": "JRLhFcQbFrqp",
    "pycharm": {
     "name": "#%% md\n"
    }
   }
  },
  {
   "cell_type": "markdown",
   "source": [
    "## 1. Setup"
   ],
   "metadata": {
    "id": "fGJhUfsRF1SI",
    "pycharm": {
     "name": "#%% md\n"
    }
   }
  },
  {
   "cell_type": "code",
   "source": [
    "!pip install jax\n",
    "!pip install tensorflow-probability\n",
    "!pip install igraph\n",
    "!pip install git+https://github.com/Habush/DMALAX.git"
   ],
   "metadata": {
    "id": "8ze2AqS0_MHk",
    "pycharm": {
     "name": "#%%\n"
    }
   },
   "execution_count": null,
   "outputs": []
  },
  {
   "cell_type": "code",
   "execution_count": 2,
   "metadata": {
    "id": "-YkflBxOiCcW",
    "pycharm": {
     "name": "#%%\n"
    }
   },
   "outputs": [],
   "source": [
    "import jax\n",
    "import jax.numpy as jnp\n",
    "import jax.scipy.stats as stats\n",
    "import matplotlib.pyplot as plt\n",
    "import numpy as np\n",
    "import dmalax\n",
    "import igraph as ig\n",
    "import itertools\n",
    "from tensorflow_probability.substrates import jax as tfp\n",
    "import time\n",
    "tfd = tfp.distributions"
   ]
  },
  {
   "cell_type": "code",
   "source": [
    "rng_key = jax.random.PRNGKey(0)"
   ],
   "metadata": {
    "id": "kaSrxwpHHsq4",
    "pycharm": {
     "name": "#%%\n"
    }
   },
   "execution_count": 3,
   "outputs": []
  },
  {
   "cell_type": "markdown",
   "source": [
    "## 2. Define a 4x4 Lattice Model"
   ],
   "metadata": {
    "id": "eVMnD2CCF5cX",
    "pycharm": {
     "name": "#%% md\n"
    }
   }
  },
  {
   "cell_type": "code",
   "source": [
    "dim = 4\n",
    "lattice_dim = 2\n",
    "g = ig.Graph.Lattice(dim=[dim, dim])\n",
    "J = np.asarray(g.get_adjacency().data)\n",
    "p = dim ** 2\n",
    "eta = 0.1 # connectivity strength\n",
    "mu = 0.2 # bias\n",
    "J.shape"
   ],
   "metadata": {
    "id": "DNOLaOhhiMY8",
    "colab": {
     "base_uri": "https://localhost:8080/"
    },
    "outputId": "08cf028a-7384-494b-c6af-3def7eda8cc5",
    "pycharm": {
     "name": "#%%\n"
    }
   },
   "execution_count": 4,
   "outputs": [
    {
     "output_type": "execute_result",
     "data": {
      "text/plain": [
       "(16, 16)"
      ]
     },
     "metadata": {},
     "execution_count": 4
    }
   ]
  },
  {
   "cell_type": "code",
   "source": [
    "def get_gt_mean(J, mu):\n",
    "  dim = J.shape[1]**2\n",
    "  ar = jnp.array([-1., 1.])[None]\n",
    "  ar_dup = jnp.repeat(ar, p, axis=0)\n",
    "  arg = [ar_dup[i] for i in range(ar_dup.shape[0])]\n",
    "  lst = jnp.array(list(itertools.product([-1.0, 1.0], repeat=dim)))\n",
    "  print(lst.shape)\n",
    "  f = lambda x: jnp.exp(jnp.sum((x @ J * x), axis=-1) + jnp.sum(mu*x, axis=-1))\n",
    "  flst = jax.jit(f)(lst)\n",
    "  plst = flst/jnp.sum(flst)\n",
    "  gt_mean = jnp.sum(plst.reshape(-1, lst.shape[1]), axis=0)\n",
    "  return gt_mean\n",
    "\n",
    "\n",
    "def get_log_rmse(x, gt_mean):\n",
    "  x = 2. * x - 1\n",
    "  return jnp.log(jnp.sqrt(jnp.mean((x - gt_mean)**2)))\n",
    "\n",
    "  return states \n",
    "\n",
    "def get_ess(chain, burn_in):\n",
    "    c = chain\n",
    "    l = c.shape[0]\n",
    "    bi = int(burn_in * l)\n",
    "    c = c[bi:]\n",
    "    cv = tfp.mcmc.effective_sample_size(c)\n",
    "    cv = cv.at[jnp.isnan(cv)*1].set(1.)\n",
    "    return cv"
   ],
   "metadata": {
    "id": "6u29mWtkp9p-",
    "pycharm": {
     "name": "#%%\n"
    }
   },
   "execution_count": 5,
   "outputs": []
  },
  {
   "cell_type": "code",
   "source": [
    "# gt_mean = get_gt_mean(J, mu)\n",
    "gt_mean = jnp.array([0.4800, 0.4800, 0.4800, 0.4800, 0.4800, 0.4800, 0.4800, 0.4800, 0.4800,\n",
    "        0.4800, 0.4800, 0.4800, 0.4800, 0.4800, 0.4800, 0.4800]) # use pre-calculated mean as calculating it takes a lot of resources.\n",
    "                                                                 # Uncomment the above line to verify"
   ],
   "metadata": {
    "id": "XwtDA5s5gnqe",
    "pycharm": {
     "name": "#%%\n"
    }
   },
   "execution_count": 6,
   "outputs": []
  },
  {
   "cell_type": "markdown",
   "source": [
    "## 3. Define the log probability function for the Ising Model"
   ],
   "metadata": {
    "id": "T8prpmXZGVLt",
    "pycharm": {
     "name": "#%% md\n"
    }
   }
  },
  {
   "cell_type": "code",
   "source": [
    "def logprob_fn(theta, J, eta, mu):\n",
    "  x = (2 * theta) - 1\n",
    "  xg = x @ J\n",
    "  xgx = jnp.sum((xg * x), axis=-1)\n",
    "  return eta*xgx + mu*jnp.sum(x)\n",
    "\n",
    "logprob = lambda x: logprob_fn(x, J, eta, mu)\n",
    "grad_fn = jax.grad(logprob)"
   ],
   "metadata": {
    "id": "kdaQseU1inAW",
    "pycharm": {
     "name": "#%%\n"
    }
   },
   "execution_count": 7,
   "outputs": []
  },
  {
   "cell_type": "markdown",
   "source": [
    "## 4. Initialized the kernel and define an initial position"
   ],
   "metadata": {
    "id": "TLCmHZl5HX83",
    "pycharm": {
     "name": "#%% md\n"
    }
   }
  },
  {
   "cell_type": "code",
   "source": [
    "step_size = 0.2\n",
    "bin_dist = tfd.Bernoulli(probs=[0.5]*p)\n",
    "init_pos = bin_dist.sample(seed=rng_key) * 1.\n",
    "init_state = dmalax.dmala.init(init_pos, logprob)\n",
    "dmala = dmalax.dmala(logprob, step_size)\n",
    "dmala_kernel = jax.jit(dmala.step)\n",
    "init_state"
   ],
   "metadata": {
    "id": "L78_2SPemFAW",
    "colab": {
     "base_uri": "https://localhost:8080/"
    },
    "outputId": "34b967ac-f23a-45a7-baa7-cc502b4ff8fa",
    "pycharm": {
     "name": "#%%\n"
    }
   },
   "execution_count": 8,
   "outputs": [
    {
     "output_type": "stream",
     "name": "stderr",
     "text": [
      "WARNING:root:The use of `check_types` is deprecated and does not have any effect.\n"
     ]
    },
    {
     "output_type": "execute_result",
     "data": {
      "text/plain": [
       "MALAState(position=DeviceArray([0., 0., 0., 0., 0., 1., 0., 0., 1., 1., 0., 0., 1., 1., 1.,\n",
       "             0.], dtype=float32, weak_type=True), logprob=DeviceArray(0.8, dtype=float32), logprob_grad=DeviceArray([-0.40000004,  0.4       , -0.40000004, -1.2       ,\n",
       "              0.4       , -0.40000004, -0.4       , -1.2       ,\n",
       "              0.4       ,  1.2       ,  0.4       , -0.4       ,\n",
       "              0.4       ,  1.2       , -0.4       ,  0.4       ],            dtype=float32, weak_type=True))"
      ]
     },
     "metadata": {},
     "execution_count": 8
    }
   ]
  },
  {
   "cell_type": "markdown",
   "source": [
    "## 5. Run the inference and collect stats"
   ],
   "metadata": {
    "id": "KeEZ5wrzHfYq",
    "pycharm": {
     "name": "#%% md\n"
    }
   }
  },
  {
   "cell_type": "code",
   "source": [
    "print_every = 100\n",
    "num_samples = 10000\n",
    "chain = np.zeros((num_samples, p))\n",
    "keys = jax.random.split(rng_key, num_samples)\n",
    "viz_every = 1000\n",
    "time_list = []\n",
    "times = []\n",
    "rmses = []\n",
    "mean = np.zeros(p)\n",
    "cur_time = 0.\n",
    "\n",
    "cur_state = init_state\n",
    "\n",
    "for i in range(num_samples):\n",
    "  key = keys[i]\n",
    "  st = time.time()\n",
    "  cur_state, _ = dmala_kernel(key, cur_state)\n",
    "  cur_time += time.time() - st\n",
    "\n",
    "  x = cur_state.position\n",
    "  chain[i] = x\n",
    "  mean = mean + x\n",
    "  if i % viz_every == 0:\n",
    "    time_list.append(cur_time)\n",
    "    rmse = get_log_rmse(mean / (i+1), gt_mean)\n",
    "    rmses.append(rmse)\n",
    "\n",
    "  if i % print_every == 0:\n",
    "    times.append(cur_time)\n",
    "    print(\"=\", end=\"\")\n",
    "\n",
    "mean = mean / num_samples"
   ],
   "metadata": {
    "id": "z97PZSIn-1o8",
    "colab": {
     "base_uri": "https://localhost:8080/"
    },
    "outputId": "4b48e153-13fe-419b-e144-fa48917245a8",
    "pycharm": {
     "name": "#%%\n"
    }
   },
   "execution_count": 9,
   "outputs": [
    {
     "output_type": "stream",
     "name": "stdout",
     "text": [
      "===================================================================================================="
     ]
    }
   ]
  },
  {
   "cell_type": "code",
   "source": [
    "ess = get_ess(chain, 0.1)\n",
    "print(\"ess = {} +/- {}\".format(ess.mean(), ess.std()))"
   ],
   "metadata": {
    "colab": {
     "base_uri": "https://localhost:8080/"
    },
    "id": "EbjHC56FBO-i",
    "outputId": "889859bb-1694-430e-9cf3-9804362c7eb5",
    "pycharm": {
     "name": "#%%\n"
    }
   },
   "execution_count": 10,
   "outputs": [
    {
     "output_type": "stream",
     "name": "stderr",
     "text": [
      "/usr/local/lib/python3.7/dist-packages/jax/_src/numpy/lax_numpy.py:4488: UserWarning: Explicitly requested dtype float64 requested in astype is not available, and will be truncated to dtype float32. To enable more dtypes, set the jax_enable_x64 configuration option or the JAX_ENABLE_X64 shell environment variable. See https://github.com/google/jax#current-gotchas for more.\n",
      "  lax_internal._check_user_dtype_supported(dtype, \"astype\")\n"
     ]
    },
    {
     "output_type": "stream",
     "name": "stdout",
     "text": [
      "ess = 576.8231201171875 +/- 171.40316772460938\n"
     ]
    }
   ]
  },
  {
   "cell_type": "code",
   "source": [
    "plt.boxplot([ess / times[-1] / (1. - 0.1)], labels=[\"dmala\"], showfliers=False)\n",
    "plt.ylabel(\"ess\")"
   ],
   "metadata": {
    "colab": {
     "base_uri": "https://localhost:8080/",
     "height": 283
    },
    "id": "rOmy48g3Fahx",
    "outputId": "8e32ec87-38b4-4732-ac6c-5ce3e3213627",
    "pycharm": {
     "name": "#%%\n"
    }
   },
   "execution_count": 11,
   "outputs": [
    {
     "output_type": "execute_result",
     "data": {
      "text/plain": [
       "Text(0, 0.5, 'ess')"
      ]
     },
     "metadata": {},
     "execution_count": 11
    },
    {
     "output_type": "display_data",
     "data": {
      "text/plain": [
       "<Figure size 432x288 with 1 Axes>"
      ],
      "image/png": "[encoded data removed]"
     },
     "metadata": {
      "needs_background": "light"
     }
    }
   ]
  },
  {
   "cell_type": "code",
   "source": [
    "plt.plot(rmses)\n",
    "plt.xlabel(\"$i$\")\n",
    "plt.ylabel(\"log RMSE\")"
   ],
   "metadata": {
    "colab": {
     "base_uri": "https://localhost:8080/",
     "height": 299
    },
    "id": "VmZuZmsuCp4l",
    "outputId": "a23e2f36-8449-4441-d2de-da1d3410ea12",
    "pycharm": {
     "name": "#%%\n"
    }
   },
   "execution_count": 12,
   "outputs": [
    {
     "output_type": "execute_result",
     "data": {
      "text/plain": [
       "Text(0, 0.5, 'log RMSE')"
      ]
     },
     "metadata": {},
     "execution_count": 12
    },
    {
     "output_type": "display_data",
     "data": {
      "text/plain": [
       "<Figure size 432x288 with 1 Axes>"
      ],
      "image/png": "[encoded data removed]"
     },
     "metadata": {
      "needs_background": "light"
     }
    }
   ]
  },
  {
   "cell_type": "markdown",
   "source": [
    "## Inference loop\n",
    "\n",
    "In the above cells, we've implemented the inference loop using a vanilla Python `for`- loop to collect stats during the run. However, for typical usage, you'd want to implement an inference loop using `jax` for speed. Check the code below"
   ],
   "metadata": {
    "id": "A3KU5gHlJF-q",
    "pycharm": {
     "name": "#%% md\n"
    }
   }
  },
  {
   "cell_type": "code",
   "source": [
    "def inference_loop(rng_key, kernel, initial_state, num_samples):\n",
    "  @jax.jit\n",
    "  def one_step(state, rng_key):\n",
    "    state, _ = kernel(rng_key, state)\n",
    "    return state, state\n",
    "\n",
    "  keys = jax.random.split(rng_key, num_samples)\n",
    "  _, states = jax.lax.scan(one_step, initial_state, keys)\n",
    "\n",
    "  return states\n",
    "\n",
    "\n",
    "def inference_loop_multiple_chains(rng_key, kernel, initial_state, num_samples, num_chains):\n",
    "  \n",
    "  def one_step(states, rng_key):\n",
    "    keys = jax.random.split(rng_key, num_chains)\n",
    "    states, _ = jax.vmap(kernel)(keys, states)\n",
    "    return states, states\n",
    "\n",
    "  keys = jax.random.split(rng_key, num_samples)\n",
    "  _, states = jax.lax.scan(one_step, initial_state, keys)"
   ],
   "metadata": {
    "id": "e6A5C2StEoGW",
    "pycharm": {
     "name": "#%%\n"
    }
   },
   "execution_count": null,
   "outputs": []
  }
 ]
}